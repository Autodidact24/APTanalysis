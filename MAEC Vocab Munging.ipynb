{
 "cells": [
  {
   "cell_type": "code",
   "execution_count": 2,
   "metadata": {
    "collapsed": true
   },
   "outputs": [],
   "source": [
    "import io,re"
   ]
  },
  {
   "cell_type": "code",
   "execution_count": 3,
   "metadata": {
    "collapsed": false
   },
   "outputs": [],
   "source": [
    "pattern = re.compile(r'[A-Z]+[a-z0-9]+')"
   ]
  },
  {
   "cell_type": "code",
   "execution_count": 4,
   "metadata": {
    "collapsed": false
   },
   "outputs": [],
   "source": [
    "labels = []\n",
    "\n",
    "with io.open('maec_vocab.txt', 'r') as fin:\n",
    "    for line in fin:\n",
    "        if line.startswith('Appendix'):\n",
    "            break\n",
    "        label = re.findall(pattern, line)\n",
    "        if label:\n",
    "            if ''.join(label).endswith('Vocab'):\n",
    "                labels.append(''.join(label[:-1]))\n",
    "                "
   ]
  },
  {
   "cell_type": "code",
   "execution_count": 5,
   "metadata": {
    "collapsed": false
   },
   "outputs": [
    {
     "name": "stdout",
     "output_type": "stream",
     "text": [
      "ActionObjectAssociationType\n",
      "DebuggingActionName\n",
      "DeviceDriverActionName\n",
      "DirectoryActionName\n",
      "DiskActionName\n",
      "DNSActionName\n",
      "FileActionName\n",
      "FTPActionName\n",
      "GUIActionName\n",
      "HookingActionName\n",
      "HTTPActionName\n",
      "IPCActionName\n",
      "IRCActionName\n",
      "LibraryActionName\n",
      "NetworkActionName\n",
      "NetworkShareActionName\n",
      "ProcessActionName\n",
      "ProcessMemoryActionName\n",
      "ProcessThreadActionName\n",
      "RegistryActionName\n",
      "ServiceActionName\n",
      "SocketActionName\n",
      "SynchronizationActionName\n",
      "SystemActionName\n",
      "UserActionName\n",
      "ImportanceType\n",
      "MalwareEntityType\n",
      "CapabilityObjectiveRelationshipType\n",
      "CommonCapabilityProperties\n",
      "MalwareCapability\n",
      "MalwareLabel\n",
      "AntiBehavioralAnalysisProperties\n",
      "AntiBehavioralAnalysisStrategicObjectives\n",
      "AntiBehavioralAnalysisTacticalObjectives\n",
      "AntiCodeAnalysisStrategicObjective\n",
      "AntiCodeAnalysisTacticalObjective\n",
      "AntiDetectionStrategicObjectives\n",
      "AntiDetectionTacticalObjectives\n",
      "AntiRemovalStrategicObjectives\n",
      "AntiRemovalTacticalObjectives\n",
      "AvailabilityViolationProperties\n",
      "AvailabilityViolationStrategicObjectives\n",
      "AvailabilityViolationTacticalObjectives\n",
      "CommandandControlProperties\n",
      "CommandandControlStrategicObjectives\n",
      "CommandandControlTacticalObjectives\n",
      "DataExfiltrationProperties\n",
      "DataExfiltrationStrategicObjectives\n",
      "DataExfiltrationTacticalObjectives\n",
      "DataTheftProperties\n",
      "DataTheftStrategicObjectives\n",
      "DataTheftTacticalObjectives\n",
      "DestructionProperties\n",
      "DestructionStrategicObjectives\n",
      "DestructionTacticalObjectives\n",
      "FraudStrategicObjectives\n",
      "FraudTacticalObjectives\n",
      "InfectionPropagationProperties\n",
      "InfectionPropagationStrategicObjectives\n",
      "InfectionPropagationTacticalObjectives\n",
      "IntegrityViolationStrategicObjectives\n",
      "IntegrityViolationTacticalObjectives\n",
      "MachineAccessControlProperties\n",
      "MachineAccessControlStrategicObjectives\n",
      "MachineAccessControlTacticalObjectives\n",
      "PersistenceProperties\n",
      "PersistenceStrategicObjectives\n",
      "PersistenceTacticalObjectives\n",
      "PrivilegeEscalationProperties\n",
      "PrivilegeEscalationStrategicObjectives\n",
      "PrivilegeEscalationTacticalObjectives\n",
      "ProbingStrategicObjectives\n",
      "ProbingTacticalObjectives\n",
      "RemoteMachineManipulationStrategicObjectives\n",
      "RemoteMachineManipulationTacticalObjectives\n",
      "SecondaryOperationProperties\n",
      "SecondaryOperationStrategicObjectives\n",
      "SecondaryOperationTacticalObjectives\n",
      "SecurityDegradationProperties\n",
      "SecurityDegradationStrategicObjectives\n",
      "SecurityDegradationTacticalObjectives\n",
      "SpyingStrategicObjectives\n",
      "SpyingTacticalObjectives\n",
      "MalwareConfigurationParameter\n",
      "MalwareDevelopmentTool\n",
      "MalwareSubjectRelationshipType\n",
      "GroupingRelationshipType\n"
     ]
    }
   ],
   "source": [
    "for l in labels:\n",
    "    print (l)"
   ]
  },
  {
   "cell_type": "code",
   "execution_count": null,
   "metadata": {
    "collapsed": true
   },
   "outputs": [],
   "source": []
  },
  {
   "cell_type": "code",
   "execution_count": null,
   "metadata": {
    "collapsed": true
   },
   "outputs": [],
   "source": []
  }
 ],
 "metadata": {
  "kernelspec": {
   "display_name": "Python 3",
   "language": "python",
   "name": "python3"
  },
  "language_info": {
   "codemirror_mode": {
    "name": "ipython",
    "version": 3
   },
   "file_extension": ".py",
   "mimetype": "text/x-python",
   "name": "python",
   "nbconvert_exporter": "python",
   "pygments_lexer": "ipython3",
   "version": "3.5.2"
  }
 },
 "nbformat": 4,
 "nbformat_minor": 0
}
